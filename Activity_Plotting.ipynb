{
 "cells": [
  {
   "cell_type": "markdown",
   "metadata": {},
   "source": [
    "# Activity Plotting\n",
    "\n",
    "For a project I was doing, time of year and day of week, or even time or day and day of week, where really important to visualise. A simple time series is great, but it doesn't necessarily illumate what is going on. Think about how easy it would be on a time series to see if activity was highest at 11am pm Thursdays.\n",
    "\n",
    "Thus in reponse, a colleague suggested plotting something like github activity tracker. For those of you who don't know what I'm talking about, its the grid with days of the week on the yaxis and the xaxis is the time in the year by week. Thus its approximatly a grid 7 rows by 52 columns. The color of each box in the grid is determined by the intensity of activity on the day.\n",
    "\n",
    "I've looked to see if any python libraries excist to plot this, and supprisingly there aren't any. The closest I've come is a waffle chart library. Thus I have russled up this code, and it does the job nicely. I have only used it in Notebooks so far, but it could be nice to make it into my own api.\n",
    "\n",
    "I have divided the viewing angles as \"time of year\" - \"day of week\" and also \"time of day\" - \"day of week\". I have written two functions, one which addresses each point."
   ]
  },
  {
   "cell_type": "code",
   "execution_count": 1,
   "metadata": {},
   "outputs": [],
   "source": [
    "import numpy as np\n",
    "import pandas as pd\n",
    "\n",
    "import calendar \n",
    "import time\n",
    "import datetime\n",
    "from datetime import datetime, timedelta\n",
    "\n",
    "import matplotlib.pyplot as plt"
   ]
  },
  {
   "cell_type": "markdown",
   "metadata": {},
   "source": [
    "## Charting \"time of year\" and \"day of week\"\n",
    "\n",
    "First up is the time of the year and day of the week. We make a numpy array, which has the dates over a period, and also some acitivites, which have been made according to a random distribution."
   ]
  },
  {
   "cell_type": "code",
   "execution_count": 2,
   "metadata": {},
   "outputs": [],
   "source": [
    "# timeline \n",
    "t = np.arange(datetime(2014,7,1), datetime(2015,7,1), timedelta(days=1)).astype(datetime)\n",
    "m = t.size\n",
    "t = t.reshape(m, 1)\n",
    "\n",
    "# activity values\n",
    "a = 100*np.random.rand(m, 1)\n",
    "\n",
    "# stact both together\n",
    "activity = np.column_stack((t,a))"
   ]
  },
  {
   "cell_type": "markdown",
   "metadata": {},
   "source": [
    "Then we define the function, which has the activity as an input along iwth some choices of whether to plot a colour bar or not, or weekday lables on the y axis, and month lables on the y axis.\n",
    "\n",
    "The main difficultly, albeit only small, is that we have to set up the grid. This takes some work, as you see."
   ]
  },
  {
   "cell_type": "code",
   "execution_count": 3,
   "metadata": {},
   "outputs": [],
   "source": [
    "def activityplot_weekday(activity, colorbar=True, weekdaylabels=True, monthlabel=True):\n",
    "    # find the start day and end day of the period\n",
    "    start_day = activity[0,0].weekday()\n",
    "    end_day = activity[-1,0].weekday()\n",
    "    \n",
    "    # set the number of rows equal to the number of days in a week\n",
    "    num_rows = 7\n",
    "    \n",
    "    # get the number of activity units, based on number of days in a year\n",
    "    num_boxes,_ = activity.shape\n",
    "    \n",
    "    # total number of boxes incl\n",
    "    total_num_boxesnum_columns = (start_day) + num_boxes + (6-end_day)\n",
    "    \n",
    "    # number of columns\n",
    "    num_columns = int(total_num_boxesnum_columns / num_rows) \n",
    "    \n",
    "    # set up the plot\n",
    "    fig = plt.figure(figsize=(15, 2))\n",
    "    \n",
    "    # set the colour map colors\n",
    "    cmap=plt.cm.Reds\n",
    "\n",
    "    # get the maximum and minimum values\n",
    "    min_number = activity[:,1].min()\n",
    "    max_number = activity[:,1].max()\n",
    "    norm=plt.Normalize(min_number, max_number)\n",
    "\n",
    "    # get the current axis\n",
    "    ax = fig.gca()\n",
    "    \n",
    "    # turn off all axes\n",
    "    ax.axis('off')\n",
    "    \n",
    "    # get the size of the image\n",
    "    size = fig.get_size_inches()*fig.dpi\n",
    "    \n",
    "    # set the extent of the figure\n",
    "    ax.set_xlim((0, size[0]))\n",
    "    ax.set_ylim((0, size[1]))\n",
    "    \n",
    "    # set the box dimensions of the nodes based on the smallest dimension\n",
    "    min_horz_spacing = size[0]/(num_columns+1)\n",
    "    min_vert_spacing = size[1]/(num_rows+1)\n",
    "    if min_horz_spacing < min_vert_spacing:\n",
    "        box_width = 3*min_horz_spacing/4\n",
    "        spacing = min_horz_spacing\n",
    "    else:\n",
    "        box_width = 3*min_vert_spacing/4\n",
    "        spacing = min_vert_spacing\n",
    "      \n",
    "    # set to be a square\n",
    "    box_height = box_width\n",
    "    \n",
    "    # set the week to be zero to start\n",
    "    week = 0\n",
    "    \n",
    "    # cycle through each day over period\n",
    "    for i, day in enumerate(activity[:,0]):\n",
    "        weekday = day.weekday()\n",
    "\n",
    "        # get the x and y for each node center\n",
    "        x = (week+1)*spacing\n",
    "        y = (weekday+1)*spacing \n",
    "        \n",
    "        # set the colour of the polygon\n",
    "        c = cmap((activity[i,1] - min_number)/(max_number - min_number))\n",
    "        \n",
    "        # plot the nodes\n",
    "        box = plt.Rectangle((x,y), box_width, box_height, color=c, zorder=100)\n",
    "        ax.add_artist(box)\n",
    "        \n",
    "        # update the column after sunday\n",
    "        if weekday == 6:\n",
    "            week += 1\n",
    "        \n",
    "        if weekdaylabels is True:\n",
    "            monthday = day.day\n",
    "            month_of_year = day.month\n",
    "            if weekday == 0 and monthday < 7:\n",
    "                x_month = x\n",
    "                y_month = 0\n",
    "                \n",
    "                month_dic = {1: 'Jan', 2: 'Feb', 3: 'Mar', 4: 'Apr', 5: 'May', 6: 'Jun',\n",
    "                     7: 'Jul', 8: 'Aug', 9: 'Sep', 10: 'Oct', 11: 'Nov', 12: 'Dec'}\n",
    "                \n",
    "                ax.annotate('{}'.format(month_dic[month_of_year]), (x_month,y_month), xytext=(3, 0),\n",
    "                        textcoords=\"offset points\", ha='center', va='bottom')\n",
    "        \n",
    "            \n",
    "    if colorbar is True:\n",
    "        # seting up the colorbar\n",
    "        sm = plt.cm.ScalarMappable(cmap=cmap, norm=norm)\n",
    "        sm.set_array(activity[:,1])\n",
    "        fig.colorbar(sm, ax=ax, orientation='vertical', shrink=0.75, aspect=5, pad=0.001)\n",
    "        \n",
    "    # list of labels for the days of the week\n",
    "    days_list = ['M', 'T', 'W', 'T', 'F', 'S', 'S']    \n",
    "    if weekdaylabels is True:\n",
    "        for j, day in enumerate(days_list):\n",
    "            y_week = (j+1)*spacing\n",
    "            x_week = 0\n",
    "            ax.annotate('{}'.format(day), (x_week,y_week), xytext=(3, 0),\n",
    "                        textcoords=\"offset points\", ha='center', va='bottom')\n",
    "    \n",
    "    plt.show()"
   ]
  },
  {
   "cell_type": "markdown",
   "metadata": {},
   "source": [
    "Lets plot the data using the function."
   ]
  },
  {
   "cell_type": "code",
   "execution_count": 4,
   "metadata": {},
   "outputs": [
    {
     "data": {
      "image/png": "[encoded data removed]",
      "text/plain": [
       "<Figure size 1080x144 with 1 Axes>"
      ]
     },
     "metadata": {
      "needs_background": "light"
     },
     "output_type": "display_data"
    }
   ],
   "source": [
    "activityplot_weekday(activity, colorbar=False, weekdaylabels=True, monthlabel=True)"
   ]
  },
  {
   "cell_type": "markdown",
   "metadata": {},
   "source": [
    "Works nicely. Clearly you can't see anything here, as the the data is random, it means that we don't see any trends!\n",
    "\n",
    "## Charting \"time of day\" and \"day of week\"\n",
    "\n",
    "This is slightly easier, as we don't have to worry so much about the grid. Its really well defined, 24 by 7. Lets define an activity matrix, with the first column is the times, and the second the activity."
   ]
  },
  {
   "cell_type": "code",
   "execution_count": 5,
   "metadata": {},
   "outputs": [],
   "source": [
    "# timeline \n",
    "t_hr = np.arange(datetime(2014,7,1), datetime(2014,7,8), timedelta(hours=1)).astype(datetime)\n",
    "m = t_hr.size\n",
    "t_hr = t_hr.reshape(m, 1)\n",
    "\n",
    "# activity values\n",
    "a_hr = 100*np.random.rand(m, 1)\n",
    "\n",
    "# stact both together\n",
    "activity_hr = np.column_stack((t_hr,a_hr))"
   ]
  },
  {
   "cell_type": "markdown",
   "metadata": {},
   "source": [
    "The we define a second function of activity_plot by hour."
   ]
  },
  {
   "cell_type": "code",
   "execution_count": 6,
   "metadata": {},
   "outputs": [],
   "source": [
    "def activityplot_hour(activity, colorbar=True, weekdaylabels=True, hourlabel=True):\n",
    "    # set the number of rows equal to the number of days in a week\n",
    "    num_rows = 7\n",
    "    \n",
    "    # set the number of columns equal to the number of hours in a day\n",
    "    num_columns = 24\n",
    "    \n",
    "    # total number of boxes \n",
    "    total_num_boxesnum_columns = num_columns * num_rows\n",
    "    \n",
    "    # set up the plot\n",
    "    fig = plt.figure(figsize=(15, 2))\n",
    "    \n",
    "    # set the colour map colors\n",
    "    cmap=plt.cm.Reds\n",
    "\n",
    "    # get the maximum and minimum values\n",
    "    min_number = activity[:,1].min()\n",
    "    max_number = activity[:,1].max()\n",
    "    norm=plt.Normalize(min_number, max_number)\n",
    "\n",
    "    # get the current axis\n",
    "    ax = fig.gca()\n",
    "    \n",
    "    # turn off all axes\n",
    "    ax.axis('off')\n",
    "    \n",
    "    # get the size of the image\n",
    "    size = fig.get_size_inches()*fig.dpi\n",
    "    \n",
    "    # set the extent of the figure\n",
    "    ax.set_xlim((0, size[0]))\n",
    "    ax.set_ylim((0, size[1]))\n",
    "    \n",
    "    # set the box dimensions of the nodes based on the smallest dimension\n",
    "    min_horz_spacing = size[0]/(num_columns+1)\n",
    "    min_vert_spacing = size[1]/(num_rows+1)\n",
    "    if min_horz_spacing < min_vert_spacing:\n",
    "        box_width = 3*min_horz_spacing/4\n",
    "        spacing = min_horz_spacing\n",
    "    else:\n",
    "        box_width = 3*min_vert_spacing/4\n",
    "        spacing = min_vert_spacing\n",
    "      \n",
    "    # set to be a square\n",
    "    box_height = box_width\n",
    "    \n",
    "    \n",
    "    for i, date in enumerate(activity[:,0]):\n",
    "        weekday = date.weekday()\n",
    "        hour = date.hour\n",
    "\n",
    "        # get the x and y for each node center\n",
    "        x = (hour+1)*spacing\n",
    "        y = (weekday+1)*spacing \n",
    "        \n",
    "        # set the colour of the polygon\n",
    "        c = cmap((activity[i,1] - min_number)/(max_number - min_number))\n",
    "        \n",
    "        # plot the nodes\n",
    "        box = plt.Rectangle((x,y), box_width, box_height, color=c, zorder=100)\n",
    "        ax.add_artist(box)\n",
    "        \n",
    "    # list of labels for the days of the week\n",
    "    days_list = ['M', 'T', 'W', 'T', 'F', 'S', 'S']    \n",
    "    if weekdaylabels is True:\n",
    "        for j, day in enumerate(days_list):\n",
    "            y_week = (j+1)*spacing\n",
    "            x_week = 0\n",
    "            ax.annotate('{}'.format(day), (x_week,y_week), xytext=(3, 0),\n",
    "                        textcoords=\"offset points\", ha='center', va='bottom')\n",
    "    \n",
    "    if hourlabel is True:\n",
    "        for k in list(range(24)):\n",
    "            x_hr = (k+1)*spacing\n",
    "            y_hr = 0\n",
    "            ax.annotate('{}'.format(k), (x_hr,y_hr), xytext=(6, 0),\n",
    "                        textcoords=\"offset points\", ha='center', va='bottom')\n",
    "    \n",
    "    plt.show()"
   ]
  },
  {
   "cell_type": "code",
   "execution_count": 7,
   "metadata": {},
   "outputs": [
    {
     "data": {
      "image/png": "[encoded data removed]",
      "text/plain": [
       "<Figure size 1080x144 with 1 Axes>"
      ]
     },
     "metadata": {
      "needs_background": "light"
     },
     "output_type": "display_data"
    }
   ],
   "source": [
    "activityplot_hour(activity_hr, colorbar=True, weekdaylabels=True, hourlabel=True)"
   ]
  },
  {
   "cell_type": "markdown",
   "metadata": {},
   "source": [
    "Looks good. Now just going to find an example I can show in public, showing where I can demo both of these. Thats for another notebook."
   ]
  }
 ],
 "metadata": {
  "kernelspec": {
   "display_name": "Python 3",
   "language": "python",
   "name": "python3"
  },
  "language_info": {
   "codemirror_mode": {
    "name": "ipython",
    "version": 3
   },
   "file_extension": ".py",
   "mimetype": "text/x-python",
   "name": "python",
   "nbconvert_exporter": "python",
   "pygments_lexer": "ipython3",
   "version": "3.7.3"
  }
 },
 "nbformat": 4,
 "nbformat_minor": 2
}
